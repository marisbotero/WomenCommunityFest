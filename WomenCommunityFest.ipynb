{
  "nbformat": 4,
  "nbformat_minor": 0,
  "metadata": {
    "colab": {
      "name": "WomenCommunityFest.ipynb",
      "provenance": [],
      "include_colab_link": true
    },
    "kernelspec": {
      "name": "python3",
      "display_name": "Python 3"
    }
  },
  "cells": [
    {
      "cell_type": "markdown",
      "metadata": {
        "id": "view-in-github",
        "colab_type": "text"
      },
      "source": [
        "<a href=\"https://colab.research.google.com/github/marisbotero/WomenCommunityFest/blob/master/WomenCommunityFest.ipynb\" target=\"_parent\"><img src=\"https://colab.research.google.com/assets/colab-badge.svg\" alt=\"Open In Colab\"/></a>"
      ]
    },
    {
      "cell_type": "markdown",
      "metadata": {
        "id": "XNl94mckskzZ",
        "colab_type": "text"
      },
      "source": [
        "## 🌻Women Community Fest"
      ]
    },
    {
      "cell_type": "markdown",
      "metadata": {
        "id": "q9UCcdFjkrsD",
        "colab_type": "text"
      },
      "source": [
        "## 💚Entrenando tu primer modelo💚\n",
        "\n",
        "\n"
      ]
    },
    {
      "cell_type": "markdown",
      "metadata": {
        "id": "_kucEXAh-PTF",
        "colab_type": "text"
      },
      "source": [
        "El problema que vamos a  resolver es convertir de grados Celsius a Fahrenheit, donde la fórmula aproximada es:\n",
        "\n",
        "$$ f = c* 1.8 + 32 $$\n",
        "\n",
        "\n",
        "Por supuesto, sería bastante simple crear una función Python convencional que realice directamente este cálculo, pero eso no sería Machine Learning\n",
        "\n",
        "En cambio, le daremos a TensorFlow algunos valores Celsius de muestra (0, 8, 15, 22, 38) y sus valores Fahrenheit correspondientes (32, 46, 59, 72, 100).Luego, entrenaremos un modelo que resuelva la fórmula anterior a través del proceso de entrenamiento.🎉"
      ]
    },
    {
      "cell_type": "markdown",
      "metadata": {
        "id": "7zkZOkxz_fBp",
        "colab_type": "text"
      },
      "source": [
        "## ⭐Importar librerias\n",
        "\n",
        "💙Vamos a  importar primero TensorFlow. Aquí, lo llamamos `tf` para facilitar su uso. También le decimos que solo muestre errores.\n",
        "\n",
        "\n",
        "💜A continuación, importanos ([NumPy](http://www.numpy.org/)) como `np`. \n",
        "Que nos ayuda a representar nuestros datos como listas de alto rendimiento."
      ]
    },
    {
      "cell_type": "code",
      "metadata": {
        "colab_type": "code",
        "id": "bdLopQtuAJi4",
        "colab": {}
      },
      "source": [
        "# No importa esta declaración, por razones de compatibilidad.\n",
        "from __future__ import absolute_import, division, print_function, unicode_literals"
      ],
      "execution_count": 0,
      "outputs": []
    },
    {
      "cell_type": "code",
      "metadata": {
        "colab_type": "code",
        "id": "-ZMgCvSRFqxE",
        "colab": {}
      },
      "source": [
        "try:\n",
        "  # %tensorflow_version magic if in colab.\n",
        "  %tensorflow_version 2.x\n",
        "except Exception:\n",
        "  pass\n",
        "\n",
        "import tensorflow as tf"
      ],
      "execution_count": 0,
      "outputs": []
    },
    {
      "cell_type": "code",
      "metadata": {
        "colab_type": "code",
        "id": "y_WQEM5MGmg3",
        "colab": {}
      },
      "source": [
        "import numpy as np  #numpy es una libreria para hacer operaciones matematicas de alto nivel\n",
        "import logging   #módulo define funciones y clases que implementan un sistema flexible de registro de eventos para aplicaciones y bibliotecas.\n",
        "logger = tf.get_logger()\n",
        "logger.setLevel(logging.ERROR)"
      ],
      "execution_count": 0,
      "outputs": []
    },
    {
      "cell_type": "markdown",
      "metadata": {
        "id": "MwrBNyKH__9_",
        "colab_type": "text"
      },
      "source": [
        "## 🤓Configurar los datos de entrenamiento\n",
        "\n",
        "el aprendizaje automático supervisado se trata de descubrir un algoritmo dado un conjunto de entradas y salidas. Dado que la tarea en este Codelab es crear un modelo que pueda dar la temperatura en Fahrenheit cuando se dan los grados en Celsius, creamos dos listas `celsius_q` y` fahrenheit_a` que podemos usar para entrenar nuestro modelo."
      ]
    },
    {
      "cell_type": "code",
      "metadata": {
        "colab_type": "code",
        "id": "gg4pn6aI1vms",
        "outputId": "27626355-803d-4562-b4fd-5eba206c6dc6",
        "colab": {
          "base_uri": "https://localhost:8080/",
          "height": 139
        }
      },
      "source": [
        "celsius_q    = np.array([-40, -10,  0,  8, 15, 22,  38],  dtype=float)\n",
        "fahrenheit_a = np.array([-40,  14, 32, 46, 59, 72, 100],  dtype=float)\n",
        "\n",
        "#Bucle para visualizar los datos de entrada y salida de nuestro modelo\n",
        "for i,c in enumerate(celsius_q):\n",
        "  print(\"{} degrees Celsius = {} degrees Fahrenheit\".format(c, fahrenheit_a[i]))"
      ],
      "execution_count": 18,
      "outputs": [
        {
          "output_type": "stream",
          "text": [
            "-40.0 degrees Celsius = -40.0 degrees Fahrenheit\n",
            "-10.0 degrees Celsius = 14.0 degrees Fahrenheit\n",
            "0.0 degrees Celsius = 32.0 degrees Fahrenheit\n",
            "8.0 degrees Celsius = 46.0 degrees Fahrenheit\n",
            "15.0 degrees Celsius = 59.0 degrees Fahrenheit\n",
            "22.0 degrees Celsius = 72.0 degrees Fahrenheit\n",
            "38.0 degrees Celsius = 100.0 degrees Fahrenheit\n"
          ],
          "name": "stdout"
        }
      ]
    },
    {
      "cell_type": "markdown",
      "metadata": {
        "id": "Q0iKGpBEBW2j",
        "colab_type": "text"
      },
      "source": [
        "### 💜💜Alguna terminología de Machine Learning💜💜\n",
        "\n",
        "  - **Característica** - La entrada (s) a de nuestro modelo. En este caso, un valor único: los grados en grados Celsius.\n",
        "\n",
        "  - **Etiquetas** - El resultado que predice de nuestro modelo. En este caso, un valor único: los grados en Fahrenheit.\n",
        "\n",
        "  - **Ejemplo** - Un par de entradas / salidas utilizadas durante el entrenamiento. En nuestro caso, un par de valores de `celsius_q` y` fahrenheit_a` en un índice específico, como `(22,72)`."
      ]
    },
    {
      "cell_type": "markdown",
      "metadata": {
        "id": "PToGlfL0Bo55",
        "colab_type": "text"
      },
      "source": [
        "## 📊Creación del modelo\n",
        "\n",
        "utilizaremos el modelo más simple posible, una red densa. Como el problema es sencillo, esta red requerirá solo una capa, con una sola neurona.\n",
        "\n",
        "### Construcción de las capas\n",
        "\n",
        "Llamaremos a la capa `l0` y la crearemos instanciando` tf.keras.layers.Dense` con la siguiente configuración:\n",
        "\n",
        "* `input_shape = [1]` - Esto especifica que la entrada a esta capa es un valor único. Es decir, la forma es una matriz unidimensional con un miembro. Como esta es la primera (y única) capa, esa forma de entrada es la forma de entrada de todo el modelo. El valor único es un número de coma flotante, que representa grados Celsius.\n",
        "\n",
        "* `units = 1` - Esto especifica el número de neuronas en la capa. El número de neuronas define cuántas variables internas tiene que tratar la capa para aprender a resolver el problema (más adelante). Dado que esta es la capa final, también es el tamaño de la salida del modelo: un único valor flotante que representa grados Fahrenheit. (En una red de varias capas, el tamaño y la forma de la capa tendrían que coincidir con la `input_shape` de la siguiente capa)."
      ]
    },
    {
      "cell_type": "code",
      "metadata": {
        "colab_type": "code",
        "id": "pRllo2HLfXiu",
        "colab": {}
      },
      "source": [
        "l0 = tf.keras.layers.Dense(units=1, input_shape=[1])"
      ],
      "execution_count": 0,
      "outputs": []
    },
    {
      "cell_type": "markdown",
      "metadata": {
        "id": "BjSb-sNblvcL",
        "colab_type": "text"
      },
      "source": [
        "\n",
        "**🍀A menudo veras las capas definidas dentro de la definición del modelo, en lugar de antes**:\n",
        "\n",
        "```python\n",
        "model = tf.keras.Sequential([\n",
        "  tf.keras.layers.Dense(units=1, input_shape=[1])\n",
        "])\n",
        "```"
      ]
    },
    {
      "cell_type": "markdown",
      "metadata": {
        "id": "EtcA8Sm_lI7r",
        "colab_type": "text"
      },
      "source": [
        "## 🔨Ensamblar capas en el modelo\n",
        "Una vez que se definen las capas, deben ensamblarse en un modelo. La definición del modelo secuencial toma una lista de capas como argumento, especificando el orden de cálculo de la entrada a la salida.\n",
        "\n",
        "Este modelo tiene una sola capa, l0."
      ]
    },
    {
      "cell_type": "code",
      "metadata": {
        "colab_type": "code",
        "id": "cSp-GpLSuMRq",
        "colab": {}
      },
      "source": [
        "model = tf.keras.Sequential([l0])"
      ],
      "execution_count": 0,
      "outputs": []
    },
    {
      "cell_type": "markdown",
      "metadata": {
        "id": "WOQ3o10lmMgJ",
        "colab_type": "text"
      },
      "source": [
        "## Compilar el modelo, con funciones de pérdida y optimizador\n",
        "\n",
        "Antes de entrenar, el modelo tiene que ser compilado. Cuando se compila para el entrenamiento, se debe tener presente:\n",
        "\n",
        "- **Función de pérdida** - Una forma de medir qué tan lejos están las predicciones del resultado deseado. (La diferencia medida se llama \"pérdida\").\n",
        "\n",
        "- **Función de optimizador** - Una forma de ajustar los valores internos para reducir la pérdida."
      ]
    },
    {
      "cell_type": "code",
      "metadata": {
        "colab_type": "code",
        "id": "m8YQN1H41L-Y",
        "colab": {}
      },
      "source": [
        "model.compile(loss='mean_squared_error',\n",
        "              optimizer=tf.keras.optimizers.Adam(0.1))"
      ],
      "execution_count": 0,
      "outputs": []
    },
    {
      "cell_type": "markdown",
      "metadata": {
        "id": "WusKawMsolO7",
        "colab_type": "text"
      },
      "source": [
        "* durante el entrenamiento se usa (`model.fit ()`, a continuación) para calcular primero la pérdida en cada punto y luego mejorarla. De hecho, el acto de calcular la pérdida actual de un modelo y luego mejorarlo es precisamente lo que es el entrenamiento.\n",
        "\n",
        "* Durante el entrenamiento, la función de optimización se usa para calcular los ajustes a las variables internas del modelo. El objetivo es ajustar las variables internas hasta que el modelo (que es realmente una función matemática) refleje la ecuación real para convertir Celsius a Fahrenheit.\n",
        "\n",
        "* TensorFlow utiliza un análisis numérico para realizar este ajuste, y toda esta complejidad está oculta para nosotros, pero puede consultar la documentación oficial de la librería. Lo que es útil saber sobre estos parámetros son:\n",
        "\n",
        "💛 Función de pérdida ([mean squared error](https://en.wikipedia.org/wiki/Mean_squared_error)) y de optimiazción ([Adam](https://machinelearningmastery.com/adam-optimization-algorithm-for-deep-learning/))utilizados aquí son estándar para modelos simples como este, pero hay muchos otros disponibles. \n",
        "\n",
        "🧡Una parte del Optimizador en la que se debe pensar al momento de crear sus propios modelos es la tasa de aprendizaje (`0.1` en el código anterior). Este es el tamaño del paso dado al ajustar los valores en el modelo. Si el valor es demasiado pequeño, se necesitarán demasiadas iteraciones para entrenar el modelo. Demasiado grande y la precisión disminuye. Encontrar un buen valor a menudo implica alguna prueba y error, pero el rango generalmente está dentro de 0.001 (predeterminado) y 0.1"
      ]
    },
    {
      "cell_type": "markdown",
      "metadata": {
        "id": "dpyIoxEtqKGD",
        "colab_type": "text"
      },
      "source": [
        "## Entrenar al modelo\n",
        "\n",
        "para el entrenamiento se usa al método `fit`.\n",
        "\n",
        "Durante el entrenamiento, el modelo toma valores Celsius, realiza un cálculo utilizando las variables internas actuales (llamadas \"pesos\") y genera valores que están destinados a ser el equivalente en Fahrenheit. Dado que los pesos se establecen inicialmente al azar, la salida no estará cerca del valor correcto. La diferencia entre la salida real y la salida deseada se calcula utilizando la función de pérdida, y la función de optimización dirige cómo deben ajustarse los pesos.\n",
        "\n",
        "Este ciclo de cálculo, comparación y ajuste se controla mediante el método `fit`. El primer argumento son las entradas, el segundo argumento son las salidas deseadas. El argumento `epochs` especifica cuántas veces se debe ejecutar este ciclo, y el argumento`verbose` controla cuánta salida produce el método."
      ]
    },
    {
      "cell_type": "code",
      "metadata": {
        "colab_type": "code",
        "id": "lpRrl7WK10Pq",
        "outputId": "3242acf4-517b-4548-e8fd-d40bffb301e7",
        "colab": {
          "base_uri": "https://localhost:8080/",
          "height": 35
        }
      },
      "source": [
        "history = model.fit(celsius_q, fahrenheit_a, epochs=500, verbose=False)\n",
        "print(\"Finished training the model\")"
      ],
      "execution_count": 22,
      "outputs": [
        {
          "output_type": "stream",
          "text": [
            "Finished training the model\n"
          ],
          "name": "stdout"
        }
      ]
    },
    {
      "cell_type": "markdown",
      "metadata": {
        "id": "cxP3zoBJwBj0",
        "colab_type": "text"
      },
      "source": [
        "## 🖤Mostrar estadísticas de entrenamiento\n",
        "\n",
        "El método `fit` devuelve un objeto de historial. Podemos usar este objeto para trazar cómo la pérdida de nuestro modelo disminuye después de cada época de entrenamiento. Una pérdida alta significa que los grados Fahrenheit que predice el modelo están lejos del valor correspondiente en `fahrenheit_a`.\n",
        "\n",
        "Usaremos [Matplotlib](https://matplotlib.org/) para visualizar el resultado. Podemos ver, que nuestro modelo que mejora muy rápidamente al principio, y luego tiene una mejora constante y lenta hasta que está muy cerca de \"perfecto\" hacia el final."
      ]
    },
    {
      "cell_type": "code",
      "metadata": {
        "colab_type": "code",
        "id": "IeK6BzfbdO6_",
        "outputId": "689792b7-656c-464f-f8b1-5de83b2d3627",
        "colab": {
          "base_uri": "https://localhost:8080/",
          "height": 297
        }
      },
      "source": [
        "import matplotlib.pyplot as plt\n",
        "plt.xlabel('Epoch Number')\n",
        "plt.ylabel(\"Loss Magnitude\")\n",
        "plt.plot(history.history['loss'])"
      ],
      "execution_count": 23,
      "outputs": [
        {
          "output_type": "execute_result",
          "data": {
            "text/plain": [
              "[<matplotlib.lines.Line2D at 0x7f0088e55198>]"
            ]
          },
          "metadata": {
            "tags": []
          },
          "execution_count": 23
        },
        {
          "output_type": "display_data",
          "data": {
            "image/png": "[encoded data removed]",
            "text/plain": [
              "<Figure size 432x288 with 1 Axes>"
            ]
          },
          "metadata": {
            "tags": []
          }
        }
      ]
    },
    {
      "cell_type": "markdown",
      "metadata": {
        "id": "Pcue0k0QxbIr",
        "colab_type": "text"
      },
      "source": [
        "Usa el modelo para predecir valores\n",
        "Ahora tiene un modelo que ha sido entrenado para aprender la relación entre celsius_q y fahrenheit_a. Puede usar el método de predicción para que calcule los grados Fahrenheit para grados Celsius previamente desconocidos.\n",
        "\n",
        "Entonces, por ejemplo, si el valor Celsius es 100, ¿cuál cree que será el resultado Fahrenheit? Adivina antes de ejecutar este código."
      ]
    },
    {
      "cell_type": "code",
      "metadata": {
        "colab_type": "code",
        "id": "oxNzL4lS2Gui",
        "outputId": "0d6104d6-70cb-407a-e870-fe3d8a99d3b2",
        "colab": {
          "base_uri": "https://localhost:8080/",
          "height": 35
        }
      },
      "source": [
        "print(model.predict([100.0]))"
      ],
      "execution_count": 25,
      "outputs": [
        {
          "output_type": "stream",
          "text": [
            "[[211.31091]]\n"
          ],
          "name": "stdout"
        }
      ]
    },
    {
      "cell_type": "code",
      "metadata": {
        "colab_type": "code",
        "outputId": "972ce0c2-ddd4-44fa-c5b7-3924a6af4cf5",
        "id": "XcBP6zi1ybCg",
        "colab": {
          "base_uri": "https://localhost:8080/",
          "height": 35
        }
      },
      "source": [
        "print(model.predict([200.0]))"
      ],
      "execution_count": 24,
      "outputs": [
        {
          "output_type": "stream",
          "text": [
            "[[393.7315]]\n"
          ],
          "name": "stdout"
        }
      ]
    },
    {
      "cell_type": "markdown",
      "metadata": {
        "id": "91NBQ5ICykMV",
        "colab_type": "text"
      },
      "source": [
        "La respuesta correcta es $100 \\times 1.8 + 32 = 212$, por lo que nuestro modelo está funcionando muy bien.\n",
        "\n",
        "### Para revisar\n",
        "\n",
        "* Creamos un modelo con una capa densa\n",
        "* Lo entrenamos con 3500 ejemplos (7 pares, más de 500 épocas).\n",
        "\n",
        "Nuestro modelo ajustó las variables (pesos) en la capa Densa hasta que pudo devolver el valor Fahrenheit correcto para cualquier valor Celsius. (Recuerda, 100 Celsius no era parte de nuestros datos de entrenamiento)."
      ]
    },
    {
      "cell_type": "markdown",
      "metadata": {
        "id": "OXeMnOdAzygu",
        "colab_type": "text"
      },
      "source": [
        "💛\n",
        "Miremos los pesos de las capas\n",
        "Finalmente, imprimamos las variables internas de la capa Densa."
      ]
    },
    {
      "cell_type": "code",
      "metadata": {
        "colab_type": "code",
        "id": "kmIkVdkbnZJI",
        "outputId": "01739aad-3fd7-48d8-988d-2aaed9c812e9",
        "colab": {
          "base_uri": "https://localhost:8080/",
          "height": 35
        }
      },
      "source": [
        "print(\"These are the layer variables: {}\".format(l0.get_weights()))"
      ],
      "execution_count": 26,
      "outputs": [
        {
          "output_type": "stream",
          "text": [
            "These are the layer variables: [array([[1.8242059]], dtype=float32), array([28.890324], dtype=float32)]\n"
          ],
          "name": "stdout"
        }
      ]
    },
    {
      "cell_type": "markdown",
      "metadata": {
        "id": "CjzSpz4L0vYO",
        "colab_type": "text"
      },
      "source": [
        "La primera variable está cerca de ~1.8 y la segunda a ~32. Estos valores (1.8 y 32) son las variables reales en la fórmula de conversión real.\n",
        "\n",
        "Esto está muy cerca de los valores en la fórmula de conversión. pero para una sola neurona con una sola entrada y una sola salida, la matemática interna se ve igual que la ecuación para una línea, y = mx + b , que tiene la misma forma que la ecuación de conversión, f = 1.8c + 32.\n",
        "\n",
        "Como la forma es la misma, las variables deberían converger en los valores estándar de 1.8 y 32, que es exactamente lo que sucedió.\n",
        "\n",
        "Con neuronas adicionales, entradas adicionales y salidas adicionales, la fórmula se vuelve mucho más compleja, pero la idea es la misma."
      ]
    },
    {
      "cell_type": "markdown",
      "metadata": {
        "id": "J7j_uLYF1QZ-",
        "colab_type": "text"
      },
      "source": [
        "## Un pequeño experimento\n",
        "\n",
        "¿qué pasa si creamos más capas densas con diferentes unidades, que por lo tanto también tienen más variables?"
      ]
    },
    {
      "cell_type": "code",
      "metadata": {
        "colab_type": "code",
        "id": "Y2zTA-rDS5Xk",
        "outputId": "668ec39a-64b4-4147-c82b-f5a44aa0f490",
        "colab": {
          "base_uri": "https://localhost:8080/",
          "height": 260
        }
      },
      "source": [
        "l0 = tf.keras.layers.Dense(units=4, input_shape=[1])\n",
        "l1 = tf.keras.layers.Dense(units=4)\n",
        "l2 = tf.keras.layers.Dense(units=1)\n",
        "model = tf.keras.Sequential([l0, l1, l2])\n",
        "model.compile(loss='mean_squared_error', optimizer=tf.keras.optimizers.Adam(0.1))\n",
        "model.fit(celsius_q, fahrenheit_a, epochs=500, verbose=False)\n",
        "print(\"modelo Entrenado\")\n",
        "print(model.predict([100.0]))\n",
        "print(\"El modelo predice que 100 grados Celsius es: {} degrees Fahrenheit\".format(model.predict([100.0])))\n",
        "print(\"Estas son las variables l0: {}\".format(l0.get_weights()))\n",
        "print(\"Estas son las variables l1: {}\".format(l1.get_weights()))\n",
        "print(\"Estas son las variables l2: {}\".format(l2.get_weights()))"
      ],
      "execution_count": 30,
      "outputs": [
        {
          "output_type": "stream",
          "text": [
            "modelo Entrenado\n",
            "[[211.74742]]\n",
            "El modelo predice que 100 grados Celsius es: [[211.74742]] degrees Fahrenheit\n",
            "Estas son las variables l0: [array([[ 0.3246479 , -0.44471374,  0.3519336 ,  0.47655118]],\n",
            "      dtype=float32), array([-2.1597958, -2.965732 ,  3.2282057,  2.9031734], dtype=float32)]\n",
            "Estas son las variables l1: [array([[ 0.16277708, -0.6455838 , -0.37417307,  1.2702874 ],\n",
            "       [ 0.2583555 , -1.4351561 ,  0.21593063,  0.49102926],\n",
            "       [-0.41825512,  0.7729473 ,  0.6837816 , -1.1204852 ],\n",
            "       [-1.2662185 , -0.0706034 ,  1.1226771 , -0.08175172]],\n",
            "      dtype=float32), array([-3.2581205,  2.1666749,  3.3820887, -3.174176 ], dtype=float32)]\n",
            "Estas son las variables l2: [array([[-1.2487088 ],\n",
            "       [ 0.3800037 ],\n",
            "       [ 0.6725286 ],\n",
            "       [-0.64496267]], dtype=float32), array([3.0652053], dtype=float32)]\n"
          ],
          "name": "stdout"
        }
      ]
    },
    {
      "cell_type": "markdown",
      "metadata": {
        "id": "ppbJ-clw1msE",
        "colab_type": "text"
      },
      "source": [
        "este modelo también puede predecir el valor Fahrenheit correspondiente realmente bien. Pero cuando observa las variables (pesos) en las capas l0 y l1, ni siquiera se acercan a ~ 1.8 y ~ 32. La complejidad añadida oculta la forma \"simple\" de la ecuación de conversión.\n"
      ]
    }
  ]
}